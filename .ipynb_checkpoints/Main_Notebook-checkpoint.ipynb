{
 "cells": [
  {
   "cell_type": "code",
   "execution_count": 144,
   "metadata": {},
   "outputs": [],
   "source": [
    "import numpy as np\n",
    "import pandas as pd\n",
    "from pandas_datareader import data\n",
    "import datetime as dt\n",
    "import numpy.random as rd\n",
    "import matplotlib.pyplot as plt\n",
    "import os\n",
    "import scipy.stats as si\n",
    "import statsmodels.api as sm"
   ]
  },
  {
   "cell_type": "code",
   "execution_count": 39,
   "metadata": {},
   "outputs": [],
   "source": [
    "#unclear if necessary to use in jupyter\n",
    "# os.chdir(os.path.dirname(__file__))\n",
    "# print(os.getcwd())"
   ]
  },
  {
   "cell_type": "code",
   "execution_count": 333,
   "metadata": {},
   "outputs": [],
   "source": [
    "def load_financial_data(name, output_file):\n",
    "    try:\n",
    "        df = pd.read_pickle(output_file)\n",
    "        print('File data found...reading',name,'data')\n",
    "    except FileNotFoundError:\n",
    "        print('File not found...downloading', name, 'data')\n",
    "        df = data.DataReader(name, 'yahoo', '2001-01-01', '2019-11-24')\n",
    "        df.to_pickle(output_file)\n",
    "    return df\n",
    "\n",
    "def euro_vanilla_call(S, K, T, r, d, sigma):\n",
    "    \n",
    "    #S: spot price\n",
    "    #K: strike price\n",
    "    #T: time to maturity/\n",
    "    #r: interest rate\n",
    "    #sigma: volatility of underlying asset\n",
    "    d1 = (np.log(S / K) + (r - d + 0.5 * sigma ** 2) * T) / (sigma * np.sqrt(T))\n",
    "#     d2 = (np.log(S / K) + (r - d - 0.5 * sigma ** 2) * T) / (sigma * np.sqrt(T))\n",
    "    d2 = d1 - sigma*np.sqrt(T)\n",
    "    call = (S * si.norm.cdf(d1, 0.0, 1.0) - K * np.exp(-(r-d) * T) * si.norm.cdf(d2, 0.0, 1.0))\n",
    "    \n",
    "    return call"
   ]
  },
  {
   "cell_type": "code",
   "execution_count": 41,
   "metadata": {},
   "outputs": [],
   "source": [
    "def get_logreturn(yahoo_dataframe):\n",
    "    out = pd.DataFrame(index = yahoo_dataframe.index)\n",
    "    prices = yahoo_dataframe.Close\n",
    "    days = pd.Series(yahoo_dataframe.index).dt.day\n",
    "    daydelta = days.iloc[1:].values - days.iloc[:-1].values\n",
    "    out['LogReturn'] = np.log(prices.shift(-1)/prices).dropna()/np.sqrt(daydelta)\n",
    "    return out\n",
    "\n",
    "def get_sigma():\n",
    "    daybasis = 252\n",
    "    SP500 = load_financial_data('^GSPC', '^GSPC_data.pkl')\n",
    "    lreturns = get_logreturn(SP500)\n",
    "    pastyears = lreturns.iloc[-n_years*daybasis:]\n",
    "    dailyvol = pastyears.std()[0]\n",
    "    yearlyvol = dailyvol*np.sqrt(daybasis)\n",
    "    return yearlyvol\n",
    "\n",
    "def get_latest_price():\n",
    "    return load_financial_data('^GSPC', '^GSPC_data.pkl').iloc[-1].Close"
   ]
  },
  {
   "cell_type": "code",
   "execution_count": 42,
   "metadata": {},
   "outputs": [
    {
     "name": "stdout",
     "output_type": "stream",
     "text": [
      "File data found...reading ^GSPC data\n"
     ]
    },
    {
     "name": "stderr",
     "output_type": "stream",
     "text": [
      "C:\\Users\\steve\\Anaconda3\\lib\\site-packages\\ipykernel_launcher.py:6: RuntimeWarning: invalid value encountered in sqrt\n",
      "  \n"
     ]
    }
   ],
   "source": [
    "SP500 = load_financial_data('^GSPC', '^GSPC_data.pkl')\n",
    "lreturns = get_logreturn(SP500)"
   ]
  },
  {
   "cell_type": "markdown",
   "metadata": {},
   "source": [
    "# 1. Extracting Historical Parameters"
   ]
  },
  {
   "cell_type": "code",
   "execution_count": 43,
   "metadata": {},
   "outputs": [],
   "source": [
    "daybasis = 252\n",
    "n_years = 3\n",
    "pastyears = lreturns.iloc[-n_years*daybasis:]\n",
    "dailyvol = pastyears.std()[0]\n",
    "\n",
    "yearlyvol = dailyvol*np.sqrt(daybasis)\n",
    "dailyalpha = pastyears.mean() + dailyvol**2/2\n",
    "yearlyalpha = dailyalpha*daybasis"
   ]
  },
  {
   "cell_type": "code",
   "execution_count": 354,
   "metadata": {},
   "outputs": [],
   "source": [
    "num_random = 5000\n",
    "def RegenerateRandomNumbers():\n",
    "    \"\"\" \n",
    "    Generate 2 sets of random numbers of num random size.\n",
    "    Then, uses antithetic variates and the normal distribution as a control variate\n",
    "    \"\"\"\n",
    "    global Z1, Z2\n",
    "    \n",
    "    Z1 = rd.randn(num_random,1)\n",
    "    Z2 = rd.randn(num_random,1)\n",
    "    Z1 = np.vstack((Z1, -Z1))\n",
    "    Z2 = np.vstack((Z2,-Z2))\n",
    "    #control variate method, denorming Z1 and Z2\n",
    "    Z1 = (Z1-Z1.mean())/Z1.std()\n",
    "    Z2 = (Z2-Z2.mean())/Z2.std()\n",
    "#     Z1 -= Z1.mean()\n",
    "#     Z1 /= Z1.std()\n",
    "#     Z2 -= Z2.mean()\n",
    "#     Z2 /= Z2.std()\n",
    "\n",
    "    #doing it with 1 matrix to make it faster\n",
    "#     Z = rd.randn(num_random, 2)\n",
    "#     Z = np.vstack((Z, -Z))\n",
    "    \n",
    "#     Z -= Z.mean(axis = 0)\n",
    "#     Z /= Z.std(axis = 0)\n",
    "    \n",
    "#     Z1 = Z[:,0].reshape(-1,1)\n",
    "#     Z2 = Z[:,1].reshape(-1,1)\n",
    "    \n",
    "    \n",
    "    \n",
    "\n",
    "RegenerateRandomNumbers();\n",
    "    \n",
    "def SimulateStock(S0,t, sigma, Z):\n",
    "    Sn = S0*np.exp(( r - d - sigma**2/2)*t + sigma*Z * np.sqrt(t))\n",
    "    return Sn\n",
    "\n",
    "def SimulateAllRelevantStocks(S0, t, T, sigma, Z1, Z2):\n",
    "    Shalf = S0*np.exp(( r - d - sigma**2/2)*t + sigma*Z1* np.sqrt(t))\n",
    "#     S1 = Shalf*np.exp( ( r - d - sigma**2/2)*(T-t) + sigma*Z2 * np.sqrt(T-t)) \n",
    "    return Shalf, Shalf*np.exp( ( r - d - sigma**2/2)*(T-t) + sigma*Z2 * np.sqrt(T-t)) \n",
    "    \n",
    "def MatrixTriggerPayoff(Qs, F, Shalf, S1):\n",
    "    \"\"\"\n",
    "    This function takes an entire vector of possible shout levels and possible stock paths,\n",
    "    and returns the payoff for each stock path at each shout level individually.\n",
    "    DO NOT TRY THIS AT HOME UNLESS YOU KNOW WHAT YOU'RE DOING WITH NUMPY'S ARRAY FUNCTIONALITY.\n",
    "    vectorized form of TriggerPayoff.\n",
    "    Hypothetically, faster.\n",
    "    \"\"\"\n",
    "    Shalfs = np.repeat(Shalf, len(Qs), axis = 1)\n",
    "    S1s = np.repeat(S1, len(Qs), axis = 1)    \n",
    "    Payoff = np.maximum(S1s-K, 0)\n",
    "    Payoff[Shalfs < Qs] = F\n",
    "    return Payoff\n",
    "    \n",
    "def TriggerPayoff(Q, F, Shalf, S1):\n",
    "#def TriggerPayoff(Q, F):\n",
    "    \"\"\" calculates trigger payoff for a given exercise level Q via Monte Carlo simulation\"\"\"\n",
    "    \n",
    "#    Shalf = SimulateStock(S,trig, Z1)\n",
    "#    Shalf = S*np.exp( ( r - d - sigma**2/2)*trig + sigma*Z1 * np.sqrt(trig)) \n",
    "    \n",
    "#    S1 = Shalf*np.exp( ( r - d - sigma**2/2)*(T-trig) + sigma*Z2 * np.sqrt(T-trig)) \n",
    "#    S1 = SimulateStock(Shalf, T-trig, Z2)\n",
    "    \n",
    "    Payoff = np.maximum(S1-K, 0)\n",
    "    Payoff[Shalf < Q] = F\n",
    "#    meanPayoff = np.smean(Payoff)\n",
    "#    return np.hstack((Shalf, Payoff))\n",
    "#    return meanPayoff*np.exp(-r*T)\n",
    "    return Payoff\n",
    "\n",
    "def TriggerMeanPayoff(Q,F, Shalf, S1):\n",
    "#     return np.mean(TriggerPayoff(Q,F, Shalf, S1))*np.exp(-r*T)\n",
    "    #vectorized form:\n",
    "    return np.mean(TriggerPayoff(Q, F, Shalf, S1), axis = 0)*np.exp(-r*T)\n",
    "\n",
    "def HalfYearCall(Shalf):\n",
    "#    Shalf = S*np.exp( ( r - d - sigma**2/2)*trig + sigma*Z1 * np.sqrt(trig)) \n",
    "    Payoff = np.maximum(Shalf-K,0)\n",
    "#    return np.mean(Payoff)*np.exp(-r*T)\n",
    "    return Payoff\n",
    "\n",
    "def HalfYearPayoff(Shalf):\n",
    "    return np.mean(HalfYearCall(Shalf))*np.exp(-r*T)\n",
    "     \n",
    "#theoretically, at T=.5, the option is either an option to get a fixed payment or a call.\n",
    "def TwoPeriodEuroCall(S1):\n",
    "    \"\"\"calculates the value of a vanilla european call using common random numbers of the shout option\n",
    "    honeslty at this point just pretend this isn't a thing\n",
    "    \"\"\"\n",
    "#    Shalf = S*np.exp( ( r - d - sigma**2/2)*trig + sigma*Z1 * np.sqrt(trig)) \n",
    "#    S1 = Shalf*np.exp( ( r - d - sigma**2/2)*(T-trig) + sigma*Z2 * np.sqrt(T-trig))\n",
    "    Payoff = np.maximum(S1-K,0)\n",
    "#    return np.mean(Payoff)*np.exp(-r*T)\n",
    "    return Payoff\n",
    "\n",
    "def TwoPeriodEuroPayoff(S1):\n",
    "    return np.mean(TwoPeriodEuroCall(S1))*np.exp(-r*T)\n",
    "\n",
    "#%% sets parameters\n",
    "sigma = yearlyvol\n",
    "T = 1\n",
    "trig = .5\n",
    "r = .0158\n",
    "d = .0185\n",
    "S = SP500.iloc[-1].Close\n",
    "F = 10\n",
    "#K = 3150"
   ]
  },
  {
   "cell_type": "code",
   "execution_count": 45,
   "metadata": {},
   "outputs": [],
   "source": [
    "# reads option data\n",
    "options = pd.read_excel(\"options.xlsx\")\n",
    "#options = pd.read_csv(\"options.csv\")\n",
    "c1yr = options.loc[:, 'Dec 2020 call'].values # traded call options price\n",
    "chalfyr = options.loc[:, 'Jun 2020 call'].values\n",
    "Ks = options.loc[:, 'strike'].values/100 # strike price\n",
    "# suppose maturity = 1 \n",
    "bs_c = []\n",
    "\n",
    "for i in Ks:\n",
    "    bs_c.append(euro_vanilla_call(S, i, T, r, d,sigma))\n",
    "    \n",
    "bs_c = np.asarray(bs_c, dtype=np.float64).reshape(-1,1)\n",
    "#Xs is a matrix of theoretical black scholes price and strike. \n",
    "Xs = np.hstack((bs_c, Ks.reshape(-1,1)))"
   ]
  },
  {
   "cell_type": "markdown",
   "metadata": {},
   "source": [
    "# 2. Benchmarking traded options to theoretical Black Scholes Options"
   ]
  },
  {
   "cell_type": "code",
   "execution_count": 46,
   "metadata": {},
   "outputs": [
    {
     "name": "stdout",
     "output_type": "stream",
     "text": [
      "slope:  1.2590542854175693\n",
      "intercept:  -11.739911398243322\n",
      "r2 score:  0.9999899259644417\n"
     ]
    },
    {
     "data": {
      "text/plain": [
       "[<matplotlib.lines.Line2D at 0x2802f3106c8>]"
      ]
     },
     "execution_count": 46,
     "metadata": {},
     "output_type": "execute_result"
    },
    {
     "data": {
      "image/png": "[encoded data removed]",
      "text/plain": [
       "<Figure size 432x288 with 1 Axes>"
      ]
     },
     "metadata": {
      "needs_background": "light"
     },
     "output_type": "display_data"
    }
   ],
   "source": [
    "#linear regression to connect the black scholes call price to the 1 year call price\n",
    "# establishes a link between the theoretical black scholes and market observed prices\n",
    "# so, using a given result from the black scholes formula, we can fill in the blanks for what the market would say\n",
    "from sklearn.linear_model import LinearRegression\n",
    "from sklearn.metrics import r2_score\n",
    "regressor = LinearRegression()\n",
    "#regressorb = LinearRegression()\n",
    "model_1 = regressor.fit(bs_c, c1yr)\n",
    "\n",
    "b_year, a_year = model_1.coef_[0], model_1.intercept_\n",
    "\n",
    "print('slope: ',b_year)\n",
    "print('intercept: ',a_year)\n",
    "print('r2 score: ',r2_score(model_1.coef_*bs_c+model_1.intercept_, c1yr))\n",
    "\n",
    "#multlin_1 = regressorb.fit(Xs,c1yr)\n",
    "#print(multlin_1.coef_)\n",
    "#print(multlin_1.intercept_)\n",
    "#print(r2_score( np.sum(multlin_1.coef_*Xs, axis = 1)+multlin_1.intercept_, c1yr))\n",
    "\n",
    "plt.plot(Ks, model_1.coef_*bs_c+model_1.intercept_, '.')\n",
    "#plt.plot(Ks, np.sum(multlin_1.coef_*Xs, axis = 1)+multlin_1.intercept_, '.')\n",
    "plt.plot(Ks,c1yr, '.')"
   ]
  },
  {
   "cell_type": "code",
   "execution_count": 47,
   "metadata": {},
   "outputs": [
    {
     "name": "stdout",
     "output_type": "stream",
     "text": [
      "slope:  1.35193212997858\n",
      "intercept:  5.464200693491563\n",
      "r2 score:  0.999769619955707\n"
     ]
    },
    {
     "data": {
      "text/plain": [
       "[<matplotlib.lines.Line2D at 0x2802e39cf48>]"
      ]
     },
     "execution_count": 47,
     "metadata": {},
     "output_type": "execute_result"
    },
    {
     "data": {
      "image/png": "[encoded data removed]",
      "text/plain": [
       "<Figure size 432x288 with 1 Axes>"
      ]
     },
     "metadata": {
      "needs_background": "light"
     },
     "output_type": "display_data"
    }
   ],
   "source": [
    "# suppose maturity = 0.5 \n",
    "# regresses half year black scholes theoretical call price to real call price\n",
    "bs_c2 = []\n",
    "for i in Ks:\n",
    "    bs_c2.append(euro_vanilla_call(S, i, trig, r, d,sigma))\n",
    "    \n",
    "bs_c2 = np.asarray(bs_c2, dtype=np.float64).reshape(-1,1)\n",
    "\n",
    "regressor2 = LinearRegression()\n",
    "model_2 = regressor2.fit(bs_c2, chalfyr)\n",
    "\n",
    "b_half, a_half = model_2.coef_[0], model_2.intercept_\n",
    "print('slope: ', b_half)\n",
    "print('intercept: ', a_half)\n",
    "print('r2 score: ',r2_score(model_2.coef_*bs_c2+model_2.intercept_, chalfyr))\n",
    "\n",
    "plt.plot(Ks, model_2.coef_*bs_c2+model_2.intercept_, '.')\n",
    "plt.plot(Ks, chalfyr, '.')"
   ]
  },
  {
   "cell_type": "code",
   "execution_count": 48,
   "metadata": {},
   "outputs": [
    {
     "name": "stdout",
     "output_type": "stream",
     "text": [
      "-11.739911398243322 1.2590542854175693 5.464200693491563 1.35193212997858\n"
     ]
    }
   ],
   "source": [
    "# for strikes between  3075 and 3150, for options of 1 year and half a year\n",
    "# of course, this might not be necessary -- it might be simpler to get straight to the point\n",
    "# which means regress directly: (what to what?)\n",
    "# simulate shout values, let those be Y\n",
    "# xs are then... \n",
    "# I guess it could be with different strike prices to empirically determine a payoff function for a shout\n",
    "# theoretically with a shout F of 0, the damn thing should converge to a european call\n",
    "# anyways, what we want is an equation of form a + b1 O1 + b2 O2,\n",
    "# where a is a fixed cost, b1 is the relation to the half year option, and b2 is the relation to the year option\n",
    "# how do we benchmark this? mentally I'm stuck\n",
    "# information we have: simulated half year stock prices, full year stock prices\n",
    "# market data: half year option, full year option\n",
    "# option one: multilinear regression, monte carlo half year to known option price, full year to known option\n",
    "\n",
    "# wait: what's the x data and y? the y is the simulated shout option price.\n",
    "# the xs are therefore some combination of the simulated stock prices and the known real option prices\n",
    "# so for each loop: simulate a shout price, as well as the two stock prices at each time\n",
    "# then do the regression on the value of the OPTION at time .5 and time 1\n",
    "# shout = a + b1 * option.5 + b2*option1\n",
    "# then, we use the actual values of the options at .5 and 1 to get the 'actual value' of the shout??\n",
    "print(a_year, b_year, a_half, b_half)\n",
    "\n",
    "def scaled_eurocall(bsprice, alpha, beta):\n",
    "    return bsprice*beta + alpha"
   ]
  },
  {
   "cell_type": "markdown",
   "metadata": {},
   "source": [
    "# 3. Wrapper Function for Simulating and Regression on a Shout Option"
   ]
  },
  {
   "cell_type": "code",
   "execution_count": 390,
   "metadata": {},
   "outputs": [],
   "source": [
    "placekey = 5\n",
    "# K = 3150\n",
    "k = Ks[placekey]\n",
    "K = k\n",
    "minrange = round((S+K)/2 -500)\n",
    "maxrange = round((S+K)/2 +500)\n",
    "step = .25\n",
    "steprange = np.arange(minrange, maxrange, step)\n",
    "\n",
    "def estimate_prices(k, sigma_):\n",
    "\n",
    "    T = 1\n",
    "    trig = .5\n",
    "    r = .0158\n",
    "    d = .0185\n",
    "    S = SP500.iloc[-1].Close\n",
    "    F = 100 #we want some F that makes the shout more valuable than the vanilla\n",
    "#    F = 0 #dummy to check convergence to vanilla\n",
    "    # when this F=0 condition is true, we would expect the value to be identical to vanilla.\n",
    "    \n",
    "    K = k\n",
    "\n",
    "    payoffs = []\n",
    "    basepays = []\n",
    "    eurocall = []\n",
    "    trueeurocall = []\n",
    "    strikes = []\n",
    "    \n",
    "    Shalf, S1 = SimulateAllRelevantStocks(S, trig, T, sigma_, Z1, Z2)\n",
    "    \n",
    "    simeurcall = TwoPeriodEuroPayoff(S1) #common random number eurocall\n",
    "    \n",
    "    \n",
    "    bseurcall = scaled_eurocall(euro_vanilla_call(S,K,T,r,d,sigma_), a_year, b_year )\n",
    "    #analytical eurocall, scaled to market data\n",
    "    \n",
    "#     for i in steprange:\n",
    "#         # this payoff takes the control variate technique and applies it to the trigger payoff\n",
    "#         # we know what the analytical european call price should be\n",
    "#         # we can simulate the european call price using the same common random numbers as the trigger\n",
    "#         # thus, we can correct the effect of the randomnuess on the trigger payoff via:\n",
    "#         # simulated_trigger - simulated_european + analytical_european\n",
    "#         basepay = TriggerMeanPayoff(i,F, Shalf, S1)\n",
    "\n",
    "#         j = basepay - simeurcall + bseurcall\n",
    "#         # I have no idea of this use of control variate is compatible with benchmarking\n",
    "#         # but strictly speaking this is perfectly valid\n",
    "#         #alright, this is valid in the formulation that returns average payoffs\n",
    "        \n",
    "#         payoffs.append(j)\n",
    "#         basepays.append(basepay)\n",
    "        \n",
    "#         # these are done to display a straight line of call price. \n",
    "# #        eurocall.append(simeurcall)\n",
    "# #        trueeurocall.append(bseurcall)\n",
    "        \n",
    "#         #this is necessary for best q level\n",
    "#         strikes.append(i)\n",
    "\n",
    "    # this is everything in that for loop but put in parallel.\n",
    "    basepay = np.mean(MatrixTriggerPayoff(steprange, F, Shalf, S1), axis = 0)*np.exp(-r*T)\n",
    "#     payoffs = basepay - simeurcall + bseurcall #     attempted control variate implementation \n",
    "    payoffs = basepay\n",
    "    \n",
    "#    plt.plot(steprange, payoffs)\n",
    "#    plt.plot(steprange, trueeurocall)\n",
    "    \n",
    "    \n",
    "    #    plt.plot(steprange, eurocall)\n",
    "    \n",
    "#     bestq = strikes[payoffs.index(max(payoffs))]\n",
    "    bestq = steprange[np.argmax(payoffs)]\n",
    "    \n",
    "    trigger = TriggerPayoff(bestq,F, Shalf, S1)\n",
    "    \n",
    "    Xs = np.hstack((HalfYearCall(Shalf), TwoPeriodEuroCall(S1)))\n",
    "#     STDs = Xs.var(axis = 0)\n",
    "    \n",
    "    regressor = sm.GLS(trigger, add_constant(Xs))\n",
    "    model = regressor.fit()\n",
    "    \n",
    "#     regressor = LinearRegression()\n",
    "#     model = regressor.fit(Xs, trigger)\n",
    "    \n",
    "    value = max(payoffs)\n",
    "#    print('value: ',value, \n",
    "##          'true-vanilla: ', trueeurocall[0],    \n",
    "#          '\\n',\n",
    "#          'unadj value', max(basepays),\n",
    "##          'sim-vanilla: ', max(eurocall), \n",
    "#          '\\n',\n",
    "#          'best Q level: ', bestq)\n",
    "    return value, bestq, model, payoffs\n"
   ]
  },
  {
   "cell_type": "markdown",
   "metadata": {},
   "source": [
    "# Function to benchmark Shout Option Price from Regression Results"
   ]
  },
  {
   "cell_type": "code",
   "execution_count": 244,
   "metadata": {},
   "outputs": [],
   "source": [
    "def benchmark_prices(reg_results):\n",
    "    c1 = c1yr[placekey]\n",
    "    ch = chalfyr[placekey]\n",
    "    benchmarkcalls = np.array((ch, c1))\n",
    "    benchmarkedprices = []\n",
    "    for reg in reg_results:\n",
    "    #    price = reg.coef_[0]*ch + reg.coef_[1]*c1 + reg.intercept_\n",
    "#         price = (np.dot(reg.coef_,benchmarkcalls) + reg.intercept_)[0]\n",
    "        price = np.dot(reg.params, np.hstack((np.ones(1),benchmarkcalls)))\n",
    "        # can also use reg.predict()\n",
    "#        print(reg.coef_, reg.intercept_)\n",
    "        benchmarkedprices.append(price)\n",
    "    return benchmarkedprices"
   ]
  },
  {
   "cell_type": "markdown",
   "metadata": {},
   "source": [
    "# Simulation of Shout Option at $\\sigma$ and $\\sigma + 3\\%$\n",
    "(Warning: takes at least 10 minutes to run.)"
   ]
  },
  {
   "cell_type": "code",
   "execution_count": 383,
   "metadata": {},
   "outputs": [],
   "source": [
    "#k = 3120\n",
    "# referential equivalent for k = 3120:\n",
    "#placekey = 4\n",
    "#k = Ks[placekey]\n",
    "#\n",
    "#minrange = round((S+K)/2 -750)\n",
    "#maxrange = round((S+K)/2 +750)\n",
    "#step = .2\n",
    "#steprange = np.arange(minrange, maxrange, step)\n",
    "\n",
    "values_base = []\n",
    "optimalqs_base = []\n",
    "regression_results_base = []\n",
    "payofflist_base = []\n",
    "\n",
    "values_spread = []\n",
    "optimalqs_spread = []\n",
    "regression_results_spread = []\n",
    "payofflist_spread = []\n",
    "spreadyvol = yearlyvol +.03\n",
    "for j in range(100):        \n",
    "    # if, at time of submission, the range is 1, that's because I was in the process of reworking this to not be a for loop averaging over several monte carlo simulations\n",
    "    # that's 1.slow 2.of dubious rigor.\n",
    "    # therefore, looking for a way of handling error propagation down a monte carlo simulation via regression\n",
    "    \n",
    "    #well, monte carlo of monte carlo. Logic suggests large number of repeats of secondary monte carlo but small of primary\n",
    "    # could probably vectorize actually\n",
    "    \n",
    "    # common random numbers approach\n",
    "    RegenerateRandomNumbers()\n",
    "    \n",
    "    v, q, rr, ps = estimate_prices(k, yearlyvol)\n",
    "    values_base.append(v)\n",
    "    optimalqs_base.append(q)\n",
    "    regression_results_base.append(rr)\n",
    "    payofflist_base.append(ps)\n",
    "    \n",
    "    v, q, rr, ps = estimate_prices(k, spreadvol)\n",
    "    values_spread.append(v)\n",
    "    optimalqs_spread.append(q)\n",
    "    regression_results_spread.append(rr)\n",
    "    payofflist_spread.append(ps)"
   ]
  },
  {
   "cell_type": "markdown",
   "metadata": {},
   "source": [
    "# Results and Output"
   ]
  },
  {
   "cell_type": "code",
   "execution_count": 384,
   "metadata": {},
   "outputs": [
    {
     "name": "stdout",
     "output_type": "stream",
     "text": [
      "Shout price:  190.01602615474513\n",
      "Shout MLE:  0.12322136530536654\n",
      "\n",
      "Largest Shout price with spread:  192.2670800978627\n",
      "Shout spread MLE:  0.14340162369511716\n",
      "\n",
      "Difference in price with spread:  2.2510539431175687\n",
      "sum of risks:  0.2666229890004837\n",
      "\n",
      "worse case scenario:\n",
      "\"vanilla\" shout + MLE:  190.1392475200505\n",
      "\"spread\" shout - MLE:  192.12367847416758\n",
      "difference between two:  1.984430954117073\n"
     ]
    },
    {
     "data": {
      "image/png": "[encoded data removed]",
      "text/plain": [
       "<Figure size 432x288 with 1 Axes>"
      ]
     },
     "metadata": {
      "needs_background": "light"
     },
     "output_type": "display_data"
    }
   ],
   "source": [
    "payofflist_base = np.array(payofflist_base)\n",
    "payofflist_spread = np.array(payofflist_spread)\n",
    "# for payoffs in payofflist_base:\n",
    "#     plt.plot(steprange, payoffs)\n",
    "basemean = payofflist_base.mean(axis = 0)\n",
    "\n",
    "plt.plot(steprange, payofflist_base.mean(axis = 0))\n",
    "plt.plot(steprange, payofflist_spread.mean(axis = 0))\n",
    "plt.title('Value vs Shout Level')\n",
    "plt.xlabel('Shout level')\n",
    "plt.ylabel('Value')\n",
    "plt.legend([r'$\\sigma$', r'$\\sigma + 3\\%$'])\n",
    "\n",
    "#initial attempt at adding confidence bounds; unnecessary.\n",
    "# plt.fill_between(steprange, basemean-5*basemle, basemean+5*basemle, color='b', alpha=.1)\n",
    "# for payoffs in payofflist_spread:\n",
    "#     plt.plot(steprange, payoffs)\n",
    "    \n",
    "values_base = np.array(values_base)\n",
    "optimalqs_base = np.array(optimalqs_base)\n",
    "prices = np.array(benchmark_prices(regression_results_base))\n",
    "#values.mean(), values.std(), prices.mean(), prices.std(), optimalqs.mean(), optimalqs.std()\n",
    "\n",
    "stats_bm = (prices.mean(), prices.std())\n",
    "# stats_bm = (prices[0],regression_results_base[0])\n",
    "print('Shout price: ',stats_bm[0])\n",
    "print('Shout MLE: ', 2*stats_bm[1]/np.sqrt(len(payofflist_base)))\n",
    "   \n",
    "spread_prices = np.array(benchmark_prices(regression_results_spread))\n",
    "stats_spread = (spread_prices.max(), spread_prices.std())\n",
    "# stats_spread = (spread_prices[0],0)\n",
    "\n",
    "basemle = 2*stats_bm[1]/np.sqrt(len(payofflist_base))\n",
    "spreadmle = 2*stats_spread[1]/np.sqrt(len(payofflist_base))\n",
    "\n",
    "print('')\n",
    "print('Largest Shout price with spread: ',stats_spread[0])\n",
    "print('Shout spread MLE: ', 2*stats_spread[1]/np.sqrt(len(payofflist_spread)))\n",
    "print('')\n",
    "\n",
    "print('Difference in price with spread: ',stats_spread[0]-stats_bm[0])\n",
    "print('sum of risks: ', 2*stats_spread[1]/np.sqrt(len(payofflist_spread)) + 2*stats_bm[1]/np.sqrt(len(payofflist_base)))\n",
    "print('')\n",
    "print('worse case scenario:')\n",
    "print('\"vanilla\" shout + MLE: ', stats_bm[0] + basemle)\n",
    "print('\"spread\" shout - MLE: ', stats_spread[0] - spreadmle)\n",
    "print('difference between two: ', stats_spread[0] - spreadmle - (stats_bm[0] + basemle))"
   ]
  },
  {
   "cell_type": "code",
   "execution_count": 118,
   "metadata": {},
   "outputs": [
    {
     "name": "stdout",
     "output_type": "stream",
     "text": [
      "Optimal Exercise Boundary:  3122.604999999311\n",
      "Optimal Exercise Boundary with spread:  3072.8149999993566\n"
     ]
    }
   ],
   "source": [
    "print('Optimal Exercise Boundary: ',optimalqs_base.mean())\n",
    "    \n",
    "print('Optimal Exercise Boundary with spread: ',np.mean(optimalqs_spread))\n",
    "# indicates that as vol rises optimal exercise boundary falls\n",
    "# print(np.std(optimalqs_base), np.std(optimalqs_spread))"
   ]
  },
  {
   "cell_type": "markdown",
   "metadata": {},
   "source": [
    "Hedging is done in attached pdf."
   ]
  },
  {
   "cell_type": "markdown",
   "metadata": {},
   "source": [
    "## Test Code and other Errata"
   ]
  },
  {
   "cell_type": "code",
   "execution_count": 389,
   "metadata": {},
   "outputs": [
    {
     "data": {
      "text/plain": [
       "(10000, 1)"
      ]
     },
     "execution_count": 389,
     "metadata": {},
     "output_type": "execute_result"
    }
   ],
   "source": [
    "# payofflist_base.mean(axis = 0)\n",
    "Z1.shape"
   ]
  },
  {
   "cell_type": "code",
   "execution_count": 120,
   "metadata": {},
   "outputs": [
    {
     "data": {
      "text/plain": [
       "0.9999999999999999"
      ]
     },
     "execution_count": 120,
     "metadata": {},
     "output_type": "execute_result"
    }
   ],
   "source": [
    "np.vstack((Z1, -Z1)).std()"
   ]
  },
  {
   "cell_type": "code",
   "execution_count": 122,
   "metadata": {},
   "outputs": [
    {
     "data": {
      "text/plain": [
       "(15000,)"
      ]
     },
     "execution_count": 122,
     "metadata": {},
     "output_type": "execute_result"
    }
   ],
   "source": [
    "steprange.shape"
   ]
  },
  {
   "cell_type": "code",
   "execution_count": 86,
   "metadata": {},
   "outputs": [],
   "source": [
    "Shalf, S1 = SimulateAllRelevantStocks(S, trig, T, sigma, Z1, Z2)\n"
   ]
  },
  {
   "cell_type": "code",
   "execution_count": 165,
   "metadata": {},
   "outputs": [
    {
     "name": "stdout",
     "output_type": "stream",
     "text": [
      "[5.5817860e+01 4.5970908e-02 8.0186819e-01]\n"
     ]
    }
   ],
   "source": [
    "for reg in regression_results_base:\n",
    "    print(reg.params)"
   ]
  },
  {
   "cell_type": "code",
   "execution_count": 203,
   "metadata": {},
   "outputs": [
    {
     "data": {
      "text/plain": [
       "array([5.5817860e+01, 4.5970908e-02, 8.0186819e-01])"
      ]
     },
     "execution_count": 203,
     "metadata": {},
     "output_type": "execute_result"
    }
   ],
   "source": [
    "regression_results_base[0].params"
   ]
  },
  {
   "cell_type": "code",
   "execution_count": 188,
   "metadata": {},
   "outputs": [],
   "source": [
    "Xs = np.hstack((HalfYearCall(Shalf), TwoPeriodEuroCall(S1)))"
   ]
  },
  {
   "cell_type": "code",
   "execution_count": 204,
   "metadata": {},
   "outputs": [
    {
     "data": {
      "text/plain": [
       "array([23405.33742625, 47542.07663559])"
      ]
     },
     "execution_count": 204,
     "metadata": {},
     "output_type": "execute_result"
    }
   ],
   "source": [
    "Xs.var(axis = 0)"
   ]
  },
  {
   "cell_type": "code",
   "execution_count": 207,
   "metadata": {},
   "outputs": [
    {
     "data": {
      "text/plain": [
       "30618.66627628618"
      ]
     },
     "execution_count": 207,
     "metadata": {},
     "output_type": "execute_result"
    }
   ],
   "source": []
  },
  {
   "cell_type": "code",
   "execution_count": 232,
   "metadata": {},
   "outputs": [
    {
     "data": {
      "text/plain": [
       "array([[ 3.41728908e-05, -1.50742339e-05],\n",
       "       [-1.50742339e-05,  1.64616384e-05]])"
      ]
     },
     "execution_count": 232,
     "metadata": {},
     "output_type": "execute_result"
    }
   ],
   "source": [
    "covs = regression_results_base[0].cov_params()[1:,1:]\n",
    "covs"
   ]
  },
  {
   "cell_type": "code",
   "execution_count": 236,
   "metadata": {},
   "outputs": [
    {
     "data": {
      "text/plain": [
       "array([[0.04597091],\n",
       "       [0.80186819]])"
      ]
     },
     "execution_count": 236,
     "metadata": {},
     "output_type": "execute_result"
    }
   ],
   "source": [
    "betas = regression_results_base[0].params[1:].reshape(-1,1)\n",
    "betas"
   ]
  },
  {
   "cell_type": "code",
   "execution_count": 239,
   "metadata": {},
   "outputs": [
    {
     "data": {
      "text/plain": [
       "9.324524375191534e-07"
      ]
     },
     "execution_count": 239,
     "metadata": {},
     "output_type": "execute_result"
    }
   ],
   "source": [
    "np.dot(covs, betas**2).sum()"
   ]
  },
  {
   "cell_type": "code",
   "execution_count": 241,
   "metadata": {},
   "outputs": [
    {
     "data": {
      "text/plain": [
       "array([174.98190271])"
      ]
     },
     "execution_count": 241,
     "metadata": {},
     "output_type": "execute_result"
    }
   ],
   "source": [
    "np.sqrt(np.dot(Xs.var(axis = 0), betas**2))"
   ]
  },
  {
   "cell_type": "code",
   "execution_count": 369,
   "metadata": {},
   "outputs": [],
   "source": [
    "# benchmark_prices(regression_results_base)"
   ]
  },
  {
   "cell_type": "code",
   "execution_count": 382,
   "metadata": {},
   "outputs": [
    {
     "name": "stdout",
     "output_type": "stream",
     "text": [
      "989 ms ± 57.1 ms per loop (mean ± std. dev. of 7 runs, 1 loop each)\n"
     ]
    }
   ],
   "source": [
    "%timeit estimate_prices(k, yearlyvol)"
   ]
  },
  {
   "cell_type": "code",
   "execution_count": null,
   "metadata": {},
   "outputs": [],
   "source": []
  },
  {
   "cell_type": "code",
   "execution_count": null,
   "metadata": {},
   "outputs": [],
   "source": []
  }
 ],
 "metadata": {
  "kernelspec": {
   "display_name": "Python 3",
   "language": "python",
   "name": "python3"
  },
  "language_info": {
   "codemirror_mode": {
    "name": "ipython",
    "version": 3
   },
   "file_extension": ".py",
   "mimetype": "text/x-python",
   "name": "python",
   "nbconvert_exporter": "python",
   "pygments_lexer": "ipython3",
   "version": "3.7.4"
  }
 },
 "nbformat": 4,
 "nbformat_minor": 4
}
